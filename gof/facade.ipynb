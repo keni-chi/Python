{
 "cells": [
  {
   "cell_type": "raw",
   "metadata": {},
   "source": [
    "# 概要\n",
    "Facade（ファサード）とは「建物の正面」を意味する。異なるサブシステムを単純な操作だけを持ったFacadeクラスで結び、サブシステム間の独立性を高める事を目的とする。\n",
    "\n",
    "# 用途\n",
    "・複雑な内部処理 (データベース処理, 業務処理 etc) を隠蔽し, 利用者にシンプルなインタフェースを提供する.\n",
    "・また, 複雑な API 呼び出しの適切な実行順を利用者に意識させない.\n",
    "\n",
    "# 参考\n",
    "https://qiita.com/ttsubo/items/f0d0b63ef20aeca7f11a"
   ]
  },
  {
   "cell_type": "code",
   "execution_count": 1,
   "metadata": {},
   "outputs": [],
   "source": [
    "import sys\n",
    "import json\n",
    "\n",
    "\n",
    "class Facade(object):\n",
    "    @classmethod\n",
    "    def makeWelcomePage(cls, mailaddr, filename):\n",
    "        try:\n",
    "            username = Database.getProperties('maildata')\n",
    "            writer = HtmlWriter(open(filename, 'w'))\n",
    "            writer.title('Welcom to {}s page!'.format(username))\n",
    "            writer.paragraph(\"We'll wait for your sending\")\n",
    "            writer.mailto(mailaddr, username)\n",
    "            writer.close()\n",
    "            print('{} is created for {} ({})'.format(filename, mailaddr, username))\n",
    "        except Exception:\n",
    "            print(\"# Failure occurred\")\n"
   ]
  },
  {
   "cell_type": "code",
   "execution_count": 2,
   "metadata": {},
   "outputs": [],
   "source": [
    "class Database(object):\n",
    "    @classmethod\n",
    "    def getProperties(cls, dbname):\n",
    "        try:\n",
    "            mock_user_name = dbname + 'user_name_test'\n",
    "            return mock_user_name\n",
    "        except Exception:\n",
    "            print(\"Warning: [{0}] is not found.\".format(filename))"
   ]
  },
  {
   "cell_type": "code",
   "execution_count": 3,
   "metadata": {},
   "outputs": [],
   "source": [
    "class HtmlWriter(object):\n",
    "    def __init__(self, writer):\n",
    "        self.writer = writer\n",
    "\n",
    "    def title(self, title):\n",
    "        self.writer.write(\"<html>\\n\")\n",
    "        self.writer.write(\"<head>\")\n",
    "        self.writer.write(\"<title>{0}</title>\".format(title))\n",
    "        self.writer.write(\"</head>\\n\")\n",
    "        self.writer.write(\"<body>\\n\")\n",
    "        self.writer.write(\"<h1>{0}</h1>\\n\".format(title))\n",
    "\n",
    "    def paragraph(self, msg):\n",
    "        self.writer.write(\"<p>{0}</p>\\n\".format(msg))\n",
    "\n",
    "    def link(self, href, caption):\n",
    "        self.writer.write(\"<a href=\\\"{0}\\\">{1}</a>\".format(href, caption))\n",
    "\n",
    "    def mailto(self, mailaddr, username):\n",
    "        self.link(\"mailto:{0}\".format(mailaddr), username)\n",
    "\n",
    "    def close(self):\n",
    "        self.writer.write(\"</body>\\n\")\n",
    "        self.writer.write(\"</html>\\n\")\n",
    "        self.writer.close()\n"
   ]
  },
  {
   "cell_type": "code",
   "execution_count": 4,
   "metadata": {},
   "outputs": [
    {
     "name": "stdout",
     "output_type": "stream",
     "text": [
      "welcome1.html is created for e-mail_001 (maildatauser_name_test)\n",
      "welcome2.html is created for e-mail_002 (maildatauser_name_test)\n"
     ]
    }
   ],
   "source": [
    "Facade.makeWelcomePage(\"e-mail_001\", \"welcome1.html\")\n",
    "Facade.makeWelcomePage(\"e-mail_002\", \"welcome2.html\")\n"
   ]
  },
  {
   "cell_type": "code",
   "execution_count": null,
   "metadata": {},
   "outputs": [],
   "source": []
  }
 ],
 "metadata": {
  "kernelspec": {
   "display_name": "Python 3",
   "language": "python",
   "name": "python3"
  },
  "language_info": {
   "codemirror_mode": {
    "name": "ipython",
    "version": 3
   },
   "file_extension": ".py",
   "mimetype": "text/x-python",
   "name": "python",
   "nbconvert_exporter": "python",
   "pygments_lexer": "ipython3",
   "version": "3.7.6"
  }
 },
 "nbformat": 4,
 "nbformat_minor": 4
}
