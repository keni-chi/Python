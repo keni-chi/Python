{
 "cells": [
  {
   "cell_type": "raw",
   "metadata": {},
   "source": [
    "# 概要\n",
    "Template Methodパターンの目的は、ある処理のおおまかなアルゴリズムをあらかじめ決めておいて、そのアルゴリズムの具体的な設計をサブクラスに任せることである。そのため、システムのフレームワークを構築するための手段としてよく活用される。\n",
    "\n",
    "# 用途\n",
    "・ある処理のおおまかなアルゴリズムをあらかじめ決めておいて、そのアルゴリズムの具体的な設計をサブクラスに任せる。\n",
    "・ある単一のインスタンスの状態を操作、参照する。\n",
    "\n",
    "# 参考\n",
    "https://qiita.com/ttsubo/items/c4af71ceba15b5b213f8"
   ]
  },
  {
   "cell_type": "code",
   "execution_count": 1,
   "metadata": {},
   "outputs": [],
   "source": [
    "from abc import ABCMeta, abstractmethod\n",
    "\n",
    "class AbstractDisplay(metaclass=ABCMeta):\n",
    "    @abstractmethod\n",
    "    def execute(self):\n",
    "        pass\n",
    "\n",
    "    @abstractmethod\n",
    "    def open(self):\n",
    "        pass\n",
    "\n",
    "    @abstractmethod\n",
    "    def close(self):\n",
    "        pass\n",
    "\n",
    "    def display(self):\n",
    "        self.open()\n",
    "        for _ in range(5):\n",
    "            self.execute()\n",
    "        self.close()"
   ]
  },
  {
   "cell_type": "code",
   "execution_count": 2,
   "metadata": {},
   "outputs": [],
   "source": [
    "class CharDisplay(AbstractDisplay):\n",
    "    def __init__(self, ch):\n",
    "        self.__ch = ch\n",
    "\n",
    "    def open(self):\n",
    "        print('<<', end='')\n",
    "\n",
    "    def execute(self):\n",
    "        print(self.__ch, end='')\n",
    "\n",
    "    def close(self):\n",
    "        print('>>')\n",
    "\n",
    "        \n",
    "class StringDisplay(AbstractDisplay):\n",
    "    def __init__(self, string):\n",
    "        self.__string = string\n",
    "        self.__width = len(string)\n",
    "\n",
    "    def open(self):\n",
    "        self.__printLine()\n",
    "\n",
    "    def execute(self):\n",
    "        print(\"|{0}|\".format(self.__string))\n",
    "\n",
    "    def close(self):\n",
    "        self.__printLine()\n",
    "\n",
    "    def __printLine(self):\n",
    "        print('+', end='')\n",
    "        for _ in range(self.__width):\n",
    "            print('-', end='')\n",
    "        print('+')\n",
    "\n",
    "        \n",
    "class DictDisplay(AbstractDisplay):\n",
    "    def __init__(self, var_dict):\n",
    "        self.__var_dict = var_dict\n",
    "\n",
    "    def open(self):\n",
    "        print('open ---start')\n",
    "        x = self.__var_dict\n",
    "        if 'k1' in x:\n",
    "            print('k1あり')\n",
    "        if 'k2' in x:\n",
    "            print('k2あり')\n",
    "\n",
    "    def execute(self):\n",
    "        print('execute ---start')\n",
    "\n",
    "    def close(self):\n",
    "        print('close ---start')\n",
    "\n"
   ]
  },
  {
   "cell_type": "code",
   "execution_count": 3,
   "metadata": {},
   "outputs": [
    {
     "name": "stdout",
     "output_type": "stream",
     "text": [
      "<<HHHHH>>\n",
      "\n",
      "+-------------+\n",
      "|Hello, World!|\n",
      "|Hello, World!|\n",
      "|Hello, World!|\n",
      "|Hello, World!|\n",
      "|Hello, World!|\n",
      "+-------------+\n",
      "open ---start\n",
      "k1あり\n",
      "k2あり\n",
      "execute ---start\n",
      "execute ---start\n",
      "execute ---start\n",
      "execute ---start\n",
      "execute ---start\n",
      "close ---start\n"
     ]
    }
   ],
   "source": [
    "def startMain():\n",
    "    d1 = CharDisplay('H')\n",
    "    d2 = StringDisplay(\"Hello, World!\")\n",
    "    d1.display()\n",
    "    print(\"\")\n",
    "    d2.display()\n",
    "\n",
    "    var_dict = {'k1':'v1', 'k2':'v2'}\n",
    "    DictDisplay(var_dict).display()\n",
    "    \n",
    "    \n",
    "if __name__ == '__main__':\n",
    "    startMain()"
   ]
  },
  {
   "cell_type": "code",
   "execution_count": null,
   "metadata": {},
   "outputs": [],
   "source": []
  },
  {
   "cell_type": "code",
   "execution_count": null,
   "metadata": {},
   "outputs": [],
   "source": []
  }
 ],
 "metadata": {
  "kernelspec": {
   "display_name": "Python 3",
   "language": "python",
   "name": "python3"
  },
  "language_info": {
   "codemirror_mode": {
    "name": "ipython",
    "version": 3
   },
   "file_extension": ".py",
   "mimetype": "text/x-python",
   "name": "python",
   "nbconvert_exporter": "python",
   "pygments_lexer": "ipython3",
   "version": "3.7.6"
  }
 },
 "nbformat": 4,
 "nbformat_minor": 4
}
