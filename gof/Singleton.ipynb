{
 "cells": [
  {
   "cell_type": "raw",
   "metadata": {},
   "source": [
    "# 概要\n",
    "Singleton パターンとは、そのクラスのインスタンスが1つしか生成されないことを保証するデザインパターンのことである。ロケールやルック・アンド・フィールなど、絶対にアプリケーション全体で統一しなければならない仕組みの実装に使用される\n",
    "\n",
    "# 用途\n",
    "・例えばデータベースにコネクションするためのクラスを１つにすることで、複数のインスタンスが同時にデータベースを操作しないという前提でコードを書けるようになるため同期やメモリ内のデータを管理することができるようになる。\n",
    "・無駄なインスタンス生成を避ける。\n",
    "・ある単一のインスタンスの状態を操作、参照する。\n",
    "\n",
    "# 参考\n",
    "https://qiita.com/ttsubo/items/c4af71ceba15b5b213f8"
   ]
  },
  {
   "cell_type": "code",
   "execution_count": 1,
   "metadata": {},
   "outputs": [
    {
     "name": "stdout",
     "output_type": "stream",
     "text": [
      "one.input=1\n",
      "one.input=2, two.input=2\n",
      "one.input=0, two.input=0\n",
      "<__main__.Singleton object at 0x00000275AA64E588>\n",
      "<__main__.Myclass object at 0x00000275AA64E3C8>\n"
     ]
    }
   ],
   "source": [
    "class Singleton(object):\n",
    "    def __new__(cls, *args, **kargs):\n",
    "        if not hasattr(cls, \"_instance\"):\n",
    "            cls._instance = super(Singleton, cls).__new__(cls)\n",
    "        return cls._instance\n",
    "\n",
    "class Myclass(Singleton):\n",
    "    def __init__(self, input):\n",
    "        self.input = input\n",
    "\n",
    "if __name__ == '__main__':\n",
    "    one = Myclass(1)\n",
    "    print(\"one.input={0}\".format(one.input))\n",
    "    two = Myclass(2)\n",
    "    print(\"one.input={0}, two.input={1}\".format(one.input, two.input))\n",
    "    one.input = 0\n",
    "    print(\"one.input={0}, two.input={1}\".format(one.input, two.input))\n",
    "\n",
    "    print(Singleton(1))\n",
    "    print(Myclass(2))\n"
   ]
  },
  {
   "cell_type": "code",
   "execution_count": null,
   "metadata": {},
   "outputs": [],
   "source": []
  }
 ],
 "metadata": {
  "kernelspec": {
   "display_name": "Python 3",
   "language": "python",
   "name": "python3"
  },
  "language_info": {
   "codemirror_mode": {
    "name": "ipython",
    "version": 3
   },
   "file_extension": ".py",
   "mimetype": "text/x-python",
   "name": "python",
   "nbconvert_exporter": "python",
   "pygments_lexer": "ipython3",
   "version": "3.7.6"
  }
 },
 "nbformat": 4,
 "nbformat_minor": 4
}
