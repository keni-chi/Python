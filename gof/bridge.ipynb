{
 "cells": [
  {
   "cell_type": "raw",
   "metadata": {},
   "source": [
    "# 概要\n",
    "Bridgeパターンとは「橋渡し」のクラスを用意することによって、クラスを複数の方向に拡張させることを目的とする。\n",
    "\n",
    "# 用途\n",
    "・クラス数の爆発を抑える\n",
    "\n",
    "# 参考\n",
    "https://qiita.com/ttsubo/items/690d6d75ed6f5ff4b958"
   ]
  },
  {
   "cell_type": "code",
   "execution_count": 1,
   "metadata": {},
   "outputs": [],
   "source": [
    "# (1) Abstraction（抽象化）の役\n",
    "class Appliance(object):\n",
    "    def __init__(self, impl):\n",
    "        self.impl = impl\n",
    "\n",
    "    def open(self):\n",
    "        self.impl.rawOpen()\n",
    "\n",
    "    def print_body(self):\n",
    "        self.impl.rawPrint()\n",
    "\n",
    "    def close(self):\n",
    "        self.impl.rawClose()\n",
    "\n",
    "    def display(self):\n",
    "        self.open()\n",
    "        self.print_body()\n",
    "        self.close()\n"
   ]
  },
  {
   "cell_type": "code",
   "execution_count": 2,
   "metadata": {},
   "outputs": [],
   "source": [
    "# (2) RefinedAbstraction（改善した抽象化）の役\n",
    "class PC(Appliance):\n",
    "    def __init__(self, impl):\n",
    "        super(PC, self).__init__(impl)\n",
    "\n",
    "    def multiDisplay(self, times):\n",
    "        self.open()\n",
    "        for _ in range(times):\n",
    "            self.print_body()\n",
    "        self.close()\n",
    "\n",
    "import random\n",
    "class TV(Appliance):\n",
    "    def __init__(self, impl):\n",
    "        super(TV, self).__init__(impl)\n",
    "\n",
    "    def randomDisplay(self, times):\n",
    "        self.open()\n",
    "        t = random.randint(0, times)\n",
    "        for _ in range(t):\n",
    "            self.print_body()\n",
    "        self.close()\n"
   ]
  },
  {
   "cell_type": "code",
   "execution_count": 3,
   "metadata": {},
   "outputs": [],
   "source": [
    "# (3) Implementor（実装者）の役\n",
    "from abc import ABCMeta, abstractmethod\n",
    "\n",
    "\n",
    "class DisplayImpl(metaclass=ABCMeta):\n",
    "    @abstractmethod\n",
    "    def rawOpen(self):\n",
    "        pass\n",
    "\n",
    "    @abstractmethod\n",
    "    def rawPrint(self):\n",
    "        pass\n",
    "\n",
    "    @abstractmethod\n",
    "    def rawClose(self):\n",
    "        pass"
   ]
  },
  {
   "cell_type": "code",
   "execution_count": 4,
   "metadata": {},
   "outputs": [],
   "source": [
    "# (4) ConcreteImplementor（具体的な実装者）の役\n",
    "class DisplayStringImpl(DisplayImpl):\n",
    "    def __init__(self, string):\n",
    "        self.string = string\n",
    "        self.width = len(string)\n",
    "\n",
    "    def rawOpen(self):\n",
    "        self.printLine()\n",
    "\n",
    "    def rawPrint(self):\n",
    "        print(\"|{0}|\".format(self.string))\n",
    "\n",
    "    def rawClose(self):\n",
    "        self.printLine()\n",
    "        print(\"\")\n",
    "\n",
    "    def printLine(self):\n",
    "        line = '-' * self.width\n",
    "        print(\"+{0}+\".format(line))\n",
    "\n",
    "\n",
    "class DisplayTextfileImpl(DisplayImpl):\n",
    "    def __init__(self, filename):\n",
    "        self.filename = filename\n",
    "\n",
    "    def rawOpen(self):\n",
    "        filename = self.filename\n",
    "        self.f = 'mock_test'\n",
    "\n",
    "    def rawPrint(self):\n",
    "        data = self.f\n",
    "        data = data.split('\\n')\n",
    "        for l in data:\n",
    "            print(l)\n",
    "\n",
    "    def rawClose(self):\n",
    "        pass"
   ]
  },
  {
   "cell_type": "code",
   "execution_count": 5,
   "metadata": {},
   "outputs": [
    {
     "name": "stdout",
     "output_type": "stream",
     "text": [
      "+------+\n",
      "|Hello1|\n",
      "+------+\n",
      "\n",
      "+------+\n",
      "|Hello2|\n",
      "+------+\n",
      "\n",
      "+------+\n",
      "|Hello3|\n",
      "+------+\n",
      "\n",
      "+------+\n",
      "|Hello3|\n",
      "|Hello3|\n",
      "|Hello3|\n",
      "|Hello3|\n",
      "|Hello3|\n",
      "+------+\n",
      "\n",
      "+------+\n",
      "|Hello4|\n",
      "|Hello4|\n",
      "|Hello4|\n",
      "|Hello4|\n",
      "+------+\n",
      "\n",
      "mock_test\n"
     ]
    }
   ],
   "source": [
    "#(5) Client（依頼人）の役\n",
    "\n",
    "d1 = Appliance(DisplayStringImpl(\"Hello1\"))\n",
    "d2 = PC(DisplayStringImpl(\"Hello2\"))\n",
    "d3 = PC(DisplayStringImpl(\"Hello3\"))\n",
    "d4 = TV(DisplayStringImpl(\"Hello4\"))\n",
    "d5 = Appliance(DisplayTextfileImpl(\"test.txt\"))\n",
    "\n",
    "d1.display()\n",
    "d2.display()\n",
    "d3.display()\n",
    "d3.multiDisplay(5)\n",
    "d4.randomDisplay(5)\n",
    "d5.display()"
   ]
  },
  {
   "cell_type": "code",
   "execution_count": null,
   "metadata": {},
   "outputs": [],
   "source": []
  }
 ],
 "metadata": {
  "kernelspec": {
   "display_name": "Python 3",
   "language": "python",
   "name": "python3"
  },
  "language_info": {
   "codemirror_mode": {
    "name": "ipython",
    "version": 3
   },
   "file_extension": ".py",
   "mimetype": "text/x-python",
   "name": "python",
   "nbconvert_exporter": "python",
   "pygments_lexer": "ipython3",
   "version": "3.7.6"
  }
 },
 "nbformat": 4,
 "nbformat_minor": 4
}
