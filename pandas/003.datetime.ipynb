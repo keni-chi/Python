{
 "cells": [
  {
   "cell_type": "code",
   "execution_count": 1,
   "metadata": {},
   "outputs": [
    {
     "name": "stdout",
     "output_type": "stream",
     "text": [
      "2021-01-01\n",
      "2020-09-30\n"
     ]
    }
   ],
   "source": [
    "from datetime import date\n",
    "\n",
    "def round_today():\n",
    "    today = date.today()\n",
    "    print(today)\n",
    "    if 4 <= today.month and today.month <= 9:\n",
    "        # 3/31に丸める\n",
    "        today = today.replace(month=3, day=31)\n",
    "    else:\n",
    "        if today.month <= 3:\n",
    "            # 1年前の9/30に丸める\n",
    "            today = today.replace(year=today.year-1 ,month=9, day=30)\n",
    "        elif today.month >=10:\n",
    "            # 9/30に丸める\n",
    "            today = today.replace(month=9, day=30)\n",
    "    return today\n",
    "\n",
    "today = round_today()\n",
    "print(today)"
   ]
  },
  {
   "cell_type": "code",
   "execution_count": null,
   "metadata": {},
   "outputs": [],
   "source": []
  }
 ],
 "metadata": {
  "kernelspec": {
   "display_name": "Python 3",
   "language": "python",
   "name": "python3"
  },
  "language_info": {
   "codemirror_mode": {
    "name": "ipython",
    "version": 3
   },
   "file_extension": ".py",
   "mimetype": "text/x-python",
   "name": "python",
   "nbconvert_exporter": "python",
   "pygments_lexer": "ipython3",
   "version": "3.7.6"
  }
 },
 "nbformat": 4,
 "nbformat_minor": 4
}
